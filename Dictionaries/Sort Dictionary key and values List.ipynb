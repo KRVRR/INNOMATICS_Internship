{
 "cells": [
  {
   "cell_type": "markdown",
   "metadata": {},
   "source": [
    "# method-1"
   ]
  },
  {
   "cell_type": "code",
   "execution_count": 1,
   "metadata": {},
   "outputs": [
    {
     "name": "stdout",
     "output_type": "stream",
     "text": [
      "The original dictionary is : {'gfg': [7, 6, 3], 'is': [2, 10, 3], 'best': [19, 4]}\n",
      "The sorted dictionary : {'best': [4, 19], 'gfg': [3, 6, 7], 'is': [2, 3, 10]}\n"
     ]
    }
   ],
   "source": [
    "# initializing dictionary \n",
    "test_dict = {'gfg': [7, 6, 3],  \n",
    "             'is': [2, 10, 3],  \n",
    "             'best': [19, 4]} \n",
    "# printing original dictionary \n",
    "print(\"The original dictionary is : \" + str(test_dict)) \n",
    "# Sort Dictionary key and values List \n",
    "# Using loop + dictionary comprehension \n",
    "res = dict() \n",
    "for key in sorted(test_dict): \n",
    "    res[key] = sorted(test_dict[key]) \n",
    "# printing result  \n",
    "print(\"The sorted dictionary : \" + str(res))"
   ]
  },
  {
   "cell_type": "markdown",
   "metadata": {},
   "source": [
    "# method-2"
   ]
  },
  {
   "cell_type": "code",
   "execution_count": 2,
   "metadata": {},
   "outputs": [
    {
     "name": "stdout",
     "output_type": "stream",
     "text": [
      "The original dictionary is : {'gfg': [7, 6, 3], 'is': [2, 10, 3], 'best': [19, 4]}\n",
      "The sorted dictionary : {'best': [4, 19], 'gfg': [3, 6, 7], 'is': [2, 3, 10]}\n"
     ]
    }
   ],
   "source": [
    "# initializing dictionary \n",
    "test_dict = {'gfg': [7, 6, 3],  \n",
    "             'is': [2, 10, 3],  \n",
    "             'best': [19, 4]} \n",
    "# printing original dictionary \n",
    "print(\"The original dictionary is : \" + str(test_dict)) \n",
    "# Sort Dictionary key and values List \n",
    "# Using dictionary comprehension + sorted() \n",
    "res = {key : sorted(test_dict[key]) for key in sorted(test_dict)} \n",
    "# printing result \n",
    "print(\"The sorted dictionary : \" + str(res))"
   ]
  }
 ],
 "metadata": {
  "kernelspec": {
   "display_name": "Python 3",
   "language": "python",
   "name": "python3"
  },
  "language_info": {
   "codemirror_mode": {
    "name": "ipython",
    "version": 3
   },
   "file_extension": ".py",
   "mimetype": "text/x-python",
   "name": "python",
   "nbconvert_exporter": "python",
   "pygments_lexer": "ipython3",
   "version": "3.8.5"
  }
 },
 "nbformat": 4,
 "nbformat_minor": 4
}
