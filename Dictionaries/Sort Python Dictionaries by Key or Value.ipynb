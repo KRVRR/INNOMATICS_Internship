{
 "cells": [
  {
   "cell_type": "markdown",
   "metadata": {},
   "source": [
    "# method-1 Displaying the Keys Alphabetically:\n"
   ]
  },
  {
   "cell_type": "code",
   "execution_count": 1,
   "metadata": {},
   "outputs": [
    {
     "name": "stdout",
     "output_type": "stream",
     "text": [
      "Task 1:-\n",
      "\n",
      "Keys are\n",
      "1 2 3 4 5 6 "
     ]
    }
   ],
   "source": [
    "# Function calling \n",
    "def dictionairy():  \n",
    " # Declare hash function       \n",
    " key_value ={}     \n",
    "# Initializing value  \n",
    " key_value[2] = 56       \n",
    " key_value[1] = 2 \n",
    " key_value[5] = 12 \n",
    " key_value[4] = 24\n",
    " key_value[6] = 18      \n",
    " key_value[3] = 323 \n",
    " print (\"Task 1:-\\n\") \n",
    " print (\"Keys are\")  \n",
    " # iterkeys() returns an iterator over the  \n",
    " # dictionary’s keys. \n",
    " for i in sorted (key_value.keys()) :  \n",
    "     print(i, end = \" \")  \n",
    "def main(): \n",
    "    # function calling \n",
    "    dictionairy()                    \n",
    "# Main function calling \n",
    "if __name__==\"__main__\":       \n",
    "    main()"
   ]
  },
  {
   "cell_type": "markdown",
   "metadata": {},
   "source": [
    "# method-2 Sorting the Keys and Values in Alphabetical Order using the Key."
   ]
  },
  {
   "cell_type": "code",
   "execution_count": 3,
   "metadata": {},
   "outputs": [
    {
     "name": "stdout",
     "output_type": "stream",
     "text": [
      "Task 2:-\n",
      "Keys and Values sorted in alphabetical order by the key  \n",
      "(1, 2) (2, 56) (3, 323) (4, 24) (5, 12) (6, 18) "
     ]
    }
   ],
   "source": [
    "# function calling \n",
    "def dictionairy():  \n",
    " # Declaring the hash function       \n",
    " key_value ={}     \n",
    "# Initialize value  \n",
    " key_value[2] = 56       \n",
    " key_value[1] = 2 \n",
    " key_value[5] = 12 \n",
    " key_value[4] = 24\n",
    " key_value[6] = 18      \n",
    " key_value[3] = 323 \n",
    " print (\"Task 2:-\\nKeys and Values sorted in\",  \n",
    "            \"alphabetical order by the key  \")   \n",
    " # sorted(key_value) returns an iterator over the  \n",
    " # Dictionary’s value sorted in keys.   \n",
    " for i in sorted (key_value) : \n",
    "    print ((i, key_value[i]), end =\" \") \n",
    "def main(): \n",
    "    # function calling \n",
    "    dictionairy()                  \n",
    "# main function calling \n",
    "if __name__==\"__main__\":      \n",
    "    main()"
   ]
  },
  {
   "cell_type": "markdown",
   "metadata": {},
   "source": [
    "# method-3 Sorting the Keys and Values in alphabetical using the value"
   ]
  },
  {
   "cell_type": "code",
   "execution_count": 4,
   "metadata": {},
   "outputs": [
    {
     "name": "stdout",
     "output_type": "stream",
     "text": [
      "Task 3:-\n",
      "Keys and Values sorted in alphabetical order by the value\n",
      "[(1, 2), (5, 12), (6, 18), (4, 24), (2, 56), (3, 323)]\n"
     ]
    }
   ],
   "source": [
    "# Function calling \n",
    "def dictionairy():  \n",
    " # Declaring hash function       \n",
    " key_value ={}     \n",
    "# Initializing the value  \n",
    " key_value[2] = 56       \n",
    " key_value[1] = 2 \n",
    " key_value[5] = 12 \n",
    " key_value[4] = 24\n",
    " key_value[6] = 18      \n",
    " key_value[3] = 323 \n",
    " print (\"Task 3:-\\nKeys and Values sorted\",  \n",
    "   \"in alphabetical order by the value\") \n",
    " # Note that it will sort in lexicographical order \n",
    " # For mathematical way, change it to float \n",
    " print(sorted(key_value.items(), key = \n",
    "             lambda kv:(kv[1], kv[0])))     \n",
    "def main(): \n",
    "    # function calling \n",
    "    dictionairy()             \n",
    "# main function calling \n",
    "if __name__==\"__main__\":       \n",
    "    main()"
   ]
  },
  {
   "cell_type": "markdown",
   "metadata": {},
   "source": [
    "# method-4 Sort the dictionary by key"
   ]
  },
  {
   "cell_type": "code",
   "execution_count": 5,
   "metadata": {},
   "outputs": [
    {
     "name": "stdout",
     "output_type": "stream",
     "text": [
      "OrderedDict([('rajnish', '9'), ('ravi', '10'), ('sanjeev', '15'), ('suraj', '32'), ('yash', '2')])\n"
     ]
    }
   ],
   "source": [
    "from collections import OrderedDict \n",
    "dict = {'ravi':'10','rajnish':'9','sanjeev':'15','yash':'2','suraj':'32'} \n",
    "dict1 = OrderedDict(sorted(dict.items())) \n",
    "print(dict1) "
   ]
  },
  {
   "cell_type": "code",
   "execution_count": null,
   "metadata": {},
   "outputs": [],
   "source": []
  }
 ],
 "metadata": {
  "kernelspec": {
   "display_name": "Python 3",
   "language": "python",
   "name": "python3"
  },
  "language_info": {
   "codemirror_mode": {
    "name": "ipython",
    "version": 3
   },
   "file_extension": ".py",
   "mimetype": "text/x-python",
   "name": "python",
   "nbconvert_exporter": "python",
   "pygments_lexer": "ipython3",
   "version": "3.8.5"
  }
 },
 "nbformat": 4,
 "nbformat_minor": 4
}
