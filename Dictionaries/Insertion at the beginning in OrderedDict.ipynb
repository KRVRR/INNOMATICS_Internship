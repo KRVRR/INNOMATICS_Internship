{
 "cells": [
  {
   "cell_type": "markdown",
   "metadata": {},
   "source": [
    "# method-1"
   ]
  },
  {
   "cell_type": "code",
   "execution_count": 1,
   "metadata": {},
   "outputs": [
    {
     "name": "stdout",
     "output_type": "stream",
     "text": [
      "Resultant Dictionary :OrderedDict([('manjeet', '4'), ('akash', '4'), ('akshat', '1'), ('nikhil', '2')])\n"
     ]
    }
   ],
   "source": [
    "# Insertion at the beginning in OrderedDict\n",
    "from collections import OrderedDict \n",
    "ini_dict1 = OrderedDict([('akshat', '1'), ('nikhil', '2')]) \n",
    "ini_dict2 = OrderedDict([(\"manjeet\", '4'), (\"akash\", '4')]) \n",
    "both = OrderedDict(list(ini_dict2.items()) + list(ini_dict1.items())) \n",
    "print (\"Resultant Dictionary :\"+str(both))"
   ]
  },
  {
   "cell_type": "markdown",
   "metadata": {},
   "source": [
    "# method-2"
   ]
  },
  {
   "cell_type": "code",
   "execution_count": 2,
   "metadata": {},
   "outputs": [
    {
     "name": "stdout",
     "output_type": "stream",
     "text": [
      "Resultant Dictionary : OrderedDict([('manjeet', '3'), ('akshat', '1'), ('nikhil', '2')])\n"
     ]
    }
   ],
   "source": [
    "from collections import OrderedDict \n",
    "iniordered_dict = OrderedDict([('akshat', '1'), ('nikhil', '2')])   \n",
    "iniordered_dict.update({'manjeet':'3'}) \n",
    "iniordered_dict.move_to_end('manjeet', last = False) \n",
    "print (\"Resultant Dictionary : \"+str(iniordered_dict))"
   ]
  }
 ],
 "metadata": {
  "kernelspec": {
   "display_name": "Python 3",
   "language": "python",
   "name": "python3"
  },
  "language_info": {
   "codemirror_mode": {
    "name": "ipython",
    "version": 3
   },
   "file_extension": ".py",
   "mimetype": "text/x-python",
   "name": "python",
   "nbconvert_exporter": "python",
   "pygments_lexer": "ipython3",
   "version": "3.8.5"
  }
 },
 "nbformat": 4,
 "nbformat_minor": 4
}
