{
 "cells": [
  {
   "cell_type": "code",
   "execution_count": 1,
   "metadata": {},
   "outputs": [
    {
     "name": "stdout",
     "output_type": "stream",
     "text": [
      "true\n"
     ]
    }
   ],
   "source": [
    "#Check order of character in string using OrderedDict( ) \n",
    "from collections import OrderedDict  \n",
    "def checkOrder(input, pattern):    \n",
    "    dict = OrderedDict.fromkeys(input)    \n",
    "    ptrlen = 0\n",
    "    for key,value in dict.items():  \n",
    "        if (key == pattern[ptrlen]):  \n",
    "            ptrlen = ptrlen + 1 \n",
    "        if (ptrlen == (len(pattern))):  \n",
    "            return 'true' \n",
    "    return 'false' \n",
    "# Driver program  \n",
    "if __name__ == \"__main__\":  \n",
    "    input = 'engineers rock'\n",
    "    pattern = 'egr'\n",
    "    print (checkOrder(input,pattern))"
   ]
  },
  {
   "cell_type": "code",
   "execution_count": null,
   "metadata": {},
   "outputs": [],
   "source": []
  }
 ],
 "metadata": {
  "kernelspec": {
   "display_name": "Python 3",
   "language": "python",
   "name": "python3"
  },
  "language_info": {
   "codemirror_mode": {
    "name": "ipython",
    "version": 3
   },
   "file_extension": ".py",
   "mimetype": "text/x-python",
   "name": "python",
   "nbconvert_exporter": "python",
   "pygments_lexer": "ipython3",
   "version": "3.8.5"
  }
 },
 "nbformat": 4,
 "nbformat_minor": 4
}
