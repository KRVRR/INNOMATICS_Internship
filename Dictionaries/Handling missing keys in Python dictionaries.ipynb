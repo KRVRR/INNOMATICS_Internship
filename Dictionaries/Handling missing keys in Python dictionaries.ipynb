{
 "cells": [
  {
   "cell_type": "markdown",
   "metadata": {},
   "source": [
    "# method-1"
   ]
  },
  {
   "cell_type": "code",
   "execution_count": 1,
   "metadata": {},
   "outputs": [
    {
     "name": "stdout",
     "output_type": "stream",
     "text": [
      "0091\n",
      "Not Present\n"
     ]
    }
   ],
   "source": [
    "country_code = {'India' : '0091', \n",
    "                'Australia' : '0025', \n",
    "                'Nepal' : '00977'} \n",
    "# Set a default value for Japan \n",
    "country_code.setdefault('Japan', 'Not Present')  \n",
    "# search dictionary for country code of India \n",
    "print(country_code['India']) \n",
    "# search dictionary for country code of Japan \n",
    "print(country_code['Japan'])"
   ]
  },
  {
   "cell_type": "markdown",
   "metadata": {},
   "source": [
    "# method-2"
   ]
  },
  {
   "cell_type": "code",
   "execution_count": 2,
   "metadata": {},
   "outputs": [
    {
     "name": "stdout",
     "output_type": "stream",
     "text": [
      "The value associated with 'a' is : 1\n",
      "The value associated with 'c' is : Key Not found\n"
     ]
    }
   ],
   "source": [
    "# importing \"collections\" for defaultdict \n",
    "import collections \n",
    "# declaring defaultdict \n",
    "# sets default value 'Key Not found' to absent keys \n",
    "defd = collections.defaultdict(lambda : 'Key Not found') \n",
    "# initializing values  \n",
    "defd['a'] = 1\n",
    "# initializing values  \n",
    "defd['b'] = 2\n",
    "# printing value  \n",
    "print (\"The value associated with 'a' is : \",end=\"\") \n",
    "print (defd['a']) \n",
    "# printing value associated with 'c' \n",
    "print (\"The value associated with 'c' is : \",end=\"\") \n",
    "print (defd['c']) "
   ]
  }
 ],
 "metadata": {
  "kernelspec": {
   "display_name": "Python 3",
   "language": "python",
   "name": "python3"
  },
  "language_info": {
   "codemirror_mode": {
    "name": "ipython",
    "version": 3
   },
   "file_extension": ".py",
   "mimetype": "text/x-python",
   "name": "python",
   "nbconvert_exporter": "python",
   "pygments_lexer": "ipython3",
   "version": "3.8.5"
  }
 },
 "nbformat": 4,
 "nbformat_minor": 4
}
