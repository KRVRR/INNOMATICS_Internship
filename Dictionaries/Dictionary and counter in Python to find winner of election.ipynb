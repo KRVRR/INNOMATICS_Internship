{
 "cells": [
  {
   "cell_type": "code",
   "execution_count": 1,
   "metadata": {},
   "outputs": [
    {
     "name": "stdout",
     "output_type": "stream",
     "text": [
      "john\n"
     ]
    }
   ],
   "source": [
    "# Dictionary and counter in Python to find winner of election\n",
    "from collections import Counter  \n",
    "votes =['john','johnny','jackie','johnny','john','jackie', \n",
    "    'jamie','jamie','john','johnny','jamie','johnny','john']  \n",
    "#Count the votes for persons and stores in the dictionary \n",
    "vote_count=Counter(votes) \n",
    "#Find the maximum number of votes \n",
    "max_votes=max(vote_count.values()) \n",
    "#Search for people having maximum votes and store in a list \n",
    "lst=[i for i in vote_count.keys() if vote_count[i]==max_votes] \n",
    "#Sort the list and print lexicographical smallest name \n",
    "print(sorted(lst)[0])"
   ]
  }
 ],
 "metadata": {
  "kernelspec": {
   "display_name": "Python 3",
   "language": "python",
   "name": "python3"
  },
  "language_info": {
   "codemirror_mode": {
    "name": "ipython",
    "version": 3
   },
   "file_extension": ".py",
   "mimetype": "text/x-python",
   "name": "python",
   "nbconvert_exporter": "python",
   "pygments_lexer": "ipython3",
   "version": "3.8.5"
  }
 },
 "nbformat": 4,
 "nbformat_minor": 4
}
