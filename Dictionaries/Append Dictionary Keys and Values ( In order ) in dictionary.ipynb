{
 "cells": [
  {
   "cell_type": "markdown",
   "metadata": {},
   "source": [
    "# method-1"
   ]
  },
  {
   "cell_type": "code",
   "execution_count": 1,
   "metadata": {},
   "outputs": [
    {
     "name": "stdout",
     "output_type": "stream",
     "text": [
      "The original dictionary is : {'Gfg': 1, 'is': 3, 'Best': 2}\n",
      "The ordered keys and values : ['Gfg', 'is', 'Best', 1, 3, 2]\n"
     ]
    }
   ],
   "source": [
    "from itertools import chain \n",
    "# initializing dictionary \n",
    "test_dict = {\"Gfg\" : 1, \"is\" :  3, \"Best\" : 2} \n",
    "# printing original dictionary \n",
    "print(\"The original dictionary is : \" + str(test_dict)) \n",
    "# chain() is used for concatenation \n",
    "res = list(chain(test_dict.keys(), test_dict.values())) \n",
    "# printing result  \n",
    "print(\"The ordered keys and values : \" + str(res))"
   ]
  },
  {
   "cell_type": "markdown",
   "metadata": {},
   "source": [
    "# method-2"
   ]
  },
  {
   "cell_type": "code",
   "execution_count": 3,
   "metadata": {},
   "outputs": [
    {
     "name": "stdout",
     "output_type": "stream",
     "text": [
      "The original dictionary is : {'Gfg': 1, 'is': 3, 'Best': 2}\n",
      "The ordered keys and values : ['Gfg', 'is', 'Best', 1, 3, 2]\n"
     ]
    }
   ],
   "source": [
    "# initializing dictionary \n",
    "test_dict = {\"Gfg\" : 1, \"is\" :  3, \"Best\" : 2} \n",
    "# printing original dictionary \n",
    "print(\"The original dictionary is : \" + str(test_dict)) \n",
    "# + operator is used to perform adding keys and values \n",
    "res = list(test_dict.keys()) + list(test_dict.values())  \n",
    "# printing result  \n",
    "print(\"The ordered keys and values : \" + str(res))"
   ]
  }
 ],
 "metadata": {
  "kernelspec": {
   "display_name": "Python 3",
   "language": "python",
   "name": "python3"
  },
  "language_info": {
   "codemirror_mode": {
    "name": "ipython",
    "version": 3
   },
   "file_extension": ".py",
   "mimetype": "text/x-python",
   "name": "python",
   "nbconvert_exporter": "python",
   "pygments_lexer": "ipython3",
   "version": "3.8.5"
  }
 },
 "nbformat": 4,
 "nbformat_minor": 4
}
