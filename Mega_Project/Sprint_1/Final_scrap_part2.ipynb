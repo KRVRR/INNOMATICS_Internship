{
 "cells": [
  {
   "cell_type": "code",
   "execution_count": 1,
   "metadata": {},
   "outputs": [],
   "source": [
    "import pandas as pd\n",
    "import numpy as np\n",
    "import re"
   ]
  },
  {
   "cell_type": "code",
   "execution_count": 2,
   "metadata": {},
   "outputs": [],
   "source": [
    "df=pd.read_excel('FinalScrap.xlsx')"
   ]
  },
  {
   "cell_type": "code",
   "execution_count": 3,
   "metadata": {},
   "outputs": [],
   "source": [
    "df=df.assign(category = lambda x: 'Mobile')"
   ]
  },
  {
   "cell_type": "code",
   "execution_count": 4,
   "metadata": {},
   "outputs": [
    {
     "data": {
      "text/plain": [
       "Index(['Review_title', 'Review_text', 'Review_rating', 'Review_upvotes',\n",
       "       'Review_downvotes', 'User_city', 'Review_age', 'price', 'Product_brand',\n",
       "       'Product_name', 'Product_feature', 'Product_average_rating',\n",
       "       'Product_Category', 'category'],\n",
       "      dtype='object')"
      ]
     },
     "execution_count": 4,
     "metadata": {},
     "output_type": "execute_result"
    }
   ],
   "source": [
    "df.columns"
   ]
  },
  {
   "cell_type": "code",
   "execution_count": 5,
   "metadata": {},
   "outputs": [],
   "source": [
    "def check(x):\n",
    "    if type(x)==float:\n",
    "        return np.NaN\n",
    "    else:\n",
    "        x=x.split(',')\n",
    "        if(len(x)!=2):\n",
    "            return np.NaN\n",
    "        else:\n",
    "            x=x[1]\n",
    "            return x"
   ]
  },
  {
   "cell_type": "code",
   "execution_count": 7,
   "metadata": {},
   "outputs": [],
   "source": [
    "df['User_city']=df['User_city'].apply(check)"
   ]
  },
  {
   "cell_type": "code",
   "execution_count": 8,
   "metadata": {},
   "outputs": [],
   "source": [
    "def check(x):\n",
    "    if type(x)==float:\n",
    "        return np.NaN\n",
    "    else:\n",
    "        x=x.lower()\n",
    "        x=re.findall('\\w',x)\n",
    "        x=''.join(x)\n",
    "        r = re.findall(\"(\\d+[month|months|day|days]+ago)\", x)\n",
    "        if r!=[]:\n",
    "            return r[0]\n",
    "        r = re.findall(\"today\", x)\n",
    "        if r!=[]:\n",
    "            return r[0]\n",
    "        r = re.findall(\"[jan|january|feb|february|mar|march|apr|april|may|jun|june|july|aug|august|sep|september|oct|october|nov|november|dec|december]+\\d\\d\\d\\d\", x)\n",
    "        if r!=[]:\n",
    "            return r[0][len(r[0])-7:len(r[0])]"
   ]
  },
  {
   "cell_type": "code",
   "execution_count": 9,
   "metadata": {},
   "outputs": [],
   "source": [
    "df['Review_age1']=df['Review_age'].apply(check)"
   ]
  },
  {
   "cell_type": "code",
   "execution_count": 10,
   "metadata": {},
   "outputs": [],
   "source": [
    "def check(x):\n",
    "    if x=='osh0302':\n",
    "        return 'oct2019'\n",
    "    else:\n",
    "        return x"
   ]
  },
  {
   "cell_type": "code",
   "execution_count": 13,
   "metadata": {},
   "outputs": [],
   "source": [
    "def check(x):\n",
    "    if x=='osh0302':\n",
    "        return 'oct2019'\n",
    "    else:\n",
    "        return x"
   ]
  },
  {
   "cell_type": "code",
   "execution_count": 15,
   "metadata": {},
   "outputs": [],
   "source": [
    "df['Review_age1']=df['Review_age1'].apply(check)"
   ]
  },
  {
   "cell_type": "code",
   "execution_count": 16,
   "metadata": {},
   "outputs": [
    {
     "data": {
      "text/plain": [
       "array([nan])"
      ]
     },
     "execution_count": 16,
     "metadata": {},
     "output_type": "execute_result"
    }
   ],
   "source": [
    "df['Review_age1'].unique()"
   ]
  },
  {
   "cell_type": "code",
   "execution_count": 17,
   "metadata": {
    "scrolled": true
   },
   "outputs": [
    {
     "data": {
      "text/plain": [
       "Index(['Review_title', 'Review_text', 'Review_rating', 'Review_upvotes',\n",
       "       'Review_downvotes', 'User_city', 'Review_age', 'price', 'Product_brand',\n",
       "       'Product_name', 'Product_feature', 'Product_average_rating',\n",
       "       'Product_Category', 'category', 'Review_age1'],\n",
       "      dtype='object')"
      ]
     },
     "execution_count": 17,
     "metadata": {},
     "output_type": "execute_result"
    }
   ],
   "source": [
    "df.columns"
   ]
  },
  {
   "cell_type": "code",
   "execution_count": 18,
   "metadata": {},
   "outputs": [],
   "source": [
    "df=df[['Review_title', 'Review_text', 'Review_rating', 'Review_upvotes',\n",
    "       'Review_downvotes', 'User_city', 'Review_age1', 'price', 'Product_brand',\n",
    "       'Product_name', 'Product_feature', 'Product_average_rating',\n",
    "       'Product_Category']]"
   ]
  },
  {
   "cell_type": "code",
   "execution_count": 19,
   "metadata": {},
   "outputs": [],
   "source": [
    "df.columns=['Review_title', 'Review_text', 'Review_rating', 'Review_upvotes',\n",
    "       'Review_downvotes', 'User_city', 'Review_age', 'price', 'Product_brand',\n",
    "       'Product_name', 'Product_feature', 'Product_average_rating',\n",
    "       'Product_Category']"
   ]
  },
  {
   "cell_type": "code",
   "execution_count": 20,
   "metadata": {},
   "outputs": [
    {
     "data": {
      "text/plain": [
       "0       NaN\n",
       "1       NaN\n",
       "2       NaN\n",
       "3       NaN\n",
       "4       NaN\n",
       "         ..\n",
       "50658   NaN\n",
       "50659   NaN\n",
       "50660   NaN\n",
       "50661   NaN\n",
       "50662   NaN\n",
       "Name: Review_age, Length: 50663, dtype: float64"
      ]
     },
     "execution_count": 20,
     "metadata": {},
     "output_type": "execute_result"
    }
   ],
   "source": [
    "df['Review_age']"
   ]
  },
  {
   "cell_type": "code",
   "execution_count": 21,
   "metadata": {},
   "outputs": [],
   "source": [
    "import datetime\n",
    "end_date = datetime.datetime(2019,12,1)\n",
    "start_date = datetime.datetime(2020, 1, 1)\n",
    "\n",
    "num_months = (end_date.year - start_date.year) * 12 + (end_date.month - start_date.month)"
   ]
  },
  {
   "cell_type": "code",
   "execution_count": 22,
   "metadata": {},
   "outputs": [
    {
     "data": {
      "text/plain": [
       "-1"
      ]
     },
     "execution_count": 22,
     "metadata": {},
     "output_type": "execute_result"
    }
   ],
   "source": [
    "num_months"
   ]
  },
  {
   "cell_type": "code",
   "execution_count": 23,
   "metadata": {},
   "outputs": [
    {
     "data": {
      "text/plain": [
       "'Apr'"
      ]
     },
     "execution_count": 23,
     "metadata": {},
     "output_type": "execute_result"
    }
   ],
   "source": [
    "import datetime\n",
    "datetime.datetime.strptime('April','%B').strftime('%b')"
   ]
  },
  {
   "cell_type": "code",
   "execution_count": 25,
   "metadata": {},
   "outputs": [
    {
     "data": {
      "text/plain": [
       "21"
      ]
     },
     "execution_count": 25,
     "metadata": {},
     "output_type": "execute_result"
    }
   ],
   "source": [
    "int(str(datetime.datetime.now().date()).split('-')[2])"
   ]
  },
  {
   "cell_type": "code",
   "execution_count": 623,
   "metadata": {},
   "outputs": [],
   "source": [
    "def check(x):\n",
    "    x=str(x)\n",
    "    r=re.findall(r'oct', x)\n",
    "    if r!=[]:\n",
    "        c=re.findall(r'\\d+', x)\n",
    "        if c!=[]:\n",
    "            monthname=datetime.datetime.strptime(r[0].capitalize(), \"%b\").month\n",
    "            return c[0]+'-'+str(monthname)+'-'+str(datetime.datetime.now().date()).split('-')[2]\n",
    "        else:\n",
    "            return x\n",
    "    else:\n",
    "        return x"
   ]
  },
  {
   "cell_type": "code",
   "execution_count": 624,
   "metadata": {
    "scrolled": true
   },
   "outputs": [],
   "source": [
    "df['Review_age2']=df['Review_age2'].apply(check)"
   ]
  },
  {
   "cell_type": "code",
   "execution_count": 383,
   "metadata": {},
   "outputs": [
    {
     "data": {
      "text/plain": [
       "['2016']"
      ]
     },
     "execution_count": 383,
     "metadata": {},
     "output_type": "execute_result"
    }
   ],
   "source": [
    "re.findall(r'\\d+', 'jun2016')"
   ]
  },
  {
   "cell_type": "code",
   "execution_count": 391,
   "metadata": {},
   "outputs": [
    {
     "name": "stdout",
     "output_type": "stream",
     "text": [
      "['monthsago']\n",
      "10\n"
     ]
    }
   ],
   "source": [
    "r=re.findall(r'monthsago', '10monthsago')\n",
    "print(r)\n",
    "if r!=[]:\n",
    "    c=re.findall(r'\\d+', '10monthsago')\n",
    "    if c!=[]:\n",
    "        print(c[0])"
   ]
  },
  {
   "cell_type": "code",
   "execution_count": 636,
   "metadata": {},
   "outputs": [
    {
     "data": {
      "text/plain": [
       "array(['1', '2', '0', '3', '21', '12', '8', '6', '7', '5', '4',\n",
       "       '2019-10-20', '2019-11-20', '2019-6-20', '2019-5-20', '2018-11-20',\n",
       "       '2019-9-20', '2019-8-20', '2019-7-20', '2019-12-20', '2020-1-20',\n",
       "       '10', '2018-12-20', '2019-3-20', '2018-10-20', '2020-2-20', '11',\n",
       "       '9', '2019-4-20', '2019-2-20', '2019-1-20', '22', '52', '13',\n",
       "       '2017-12-20', '2015-6-20', '2016-4-20', '2018-9-20', '2018-7-20',\n",
       "       '2015-7-20', '2018-8-20', '2015-12-20', '2017-10-20', '2018-3-20',\n",
       "       '2017-11-20', '2016-3-20', '2018-6-20', '2018-5-20', '2018-4-20',\n",
       "       '2018-2-20', '2018-1-20', '2017-9-20', '2017-8-20', '2017-7-20',\n",
       "       '2017-6-20', '2017-5-20', '2017-3-20', '2016-12-20', '2016-7-20',\n",
       "       '2016-5-20', '2016-2-20', '2016-1-20', '2015-8-20', '2015-1-20',\n",
       "       '2014-12-20', '2017-4-20', '2017-1-20', '2017-2-20', '2016-11-20',\n",
       "       '2014-11-20', '2015-3-20', '2016-6-20', '2016-8-20', '2016-9-20',\n",
       "       '45'], dtype=object)"
      ]
     },
     "execution_count": 636,
     "metadata": {},
     "output_type": "execute_result"
    }
   ],
   "source": [
    "df['Review_age2'].unique()"
   ]
  },
  {
   "cell_type": "code",
   "execution_count": 576,
   "metadata": {},
   "outputs": [
    {
     "name": "stdout",
     "output_type": "stream",
     "text": [
      "10\n"
     ]
    },
    {
     "data": {
      "text/plain": [
       "'2019-10-20'"
      ]
     },
     "execution_count": 576,
     "metadata": {},
     "output_type": "execute_result"
    }
   ],
   "source": [
    "def check(x):\n",
    "    x=str(x)\n",
    "    r=re.findall(r'oct', x)\n",
    "    if r!=[]:\n",
    "        c=re.findall(r'\\d+', x)\n",
    "        if c!=[]:\n",
    "            monthname=datetime.datetime.strptime(r[0].capitalize(), \"%b\").month\n",
    "            return c[0]+'-'+str(monthname)+'-'+str(datetime.datetime.now().date()).split('-')[2]\n",
    "        else:\n",
    "            return x\n",
    "    else:\n",
    "        return x\n",
    "check('oct2019')"
   ]
  },
  {
   "cell_type": "code",
   "execution_count": 538,
   "metadata": {},
   "outputs": [
    {
     "data": {
      "text/plain": [
       "2"
      ]
     },
     "execution_count": 538,
     "metadata": {},
     "output_type": "execute_result"
    }
   ],
   "source": [
    "month_name = \"Jan\"\n",
    "datetime_object = datetime.datetime.strptime('Feb', \"%b\").month\n",
    "datetime_object"
   ]
  },
  {
   "cell_type": "code",
   "execution_count": 656,
   "metadata": {},
   "outputs": [],
   "source": [
    "def check(x):\n",
    "    l=x.split('-')\n",
    "    if(len(l)>1):\n",
    "        end_date = datetime.datetime(int(l[0]),int(l[1]),int(l[2]))\n",
    "        start_date = datetime.datetime(2021, 2, 20)\n",
    "        num_months = (end_date.year - start_date.year) * 12 + (end_date.month - start_date.month)\n",
    "        return int(abs(num_months))\n",
    "    else:\n",
    "        return int(x)"
   ]
  },
  {
   "cell_type": "code",
   "execution_count": 658,
   "metadata": {},
   "outputs": [],
   "source": [
    "df['Review_age2']=df['Review_age2'].apply(check)"
   ]
  },
  {
   "cell_type": "code",
   "execution_count": 660,
   "metadata": {},
   "outputs": [
    {
     "data": {
      "text/plain": [
       "array([ 1,  2,  0,  3, 21, 12,  8,  6,  7,  5,  4, 16, 15, 20, 27, 17, 18,\n",
       "       19, 14, 13, 10, 26, 23, 28, 11,  9, 22, 24, 25, 52, 38, 68, 58, 29,\n",
       "       31, 67, 30, 62, 40, 35, 39, 59, 32, 33, 34, 36, 37, 41, 42, 43, 44,\n",
       "       45, 47, 50, 55, 57, 60, 61, 66, 73, 74, 46, 49, 48, 51, 75, 71, 56,\n",
       "       54, 53], dtype=int64)"
      ]
     },
     "execution_count": 660,
     "metadata": {},
     "output_type": "execute_result"
    }
   ],
   "source": [
    "df['Review_age2'].unique()"
   ]
  },
  {
   "cell_type": "code",
   "execution_count": 669,
   "metadata": {},
   "outputs": [
    {
     "data": {
      "text/plain": [
       "Index(['Review_title', 'Review_text', 'Review_rating', 'Review_upvotes',\n",
       "       'Review_downvotes', 'User_city', 'Review_age', 'price', 'Product_brand',\n",
       "       'Product_name', 'Product_feature', 'Product_average_rating',\n",
       "       'Product_Category', 'Review_age1', 'Review_age2'],\n",
       "      dtype='object')"
      ]
     },
     "execution_count": 669,
     "metadata": {},
     "output_type": "execute_result"
    }
   ],
   "source": [
    "df.columns"
   ]
  },
  {
   "cell_type": "code",
   "execution_count": 671,
   "metadata": {},
   "outputs": [],
   "source": [
    "df=df[['Review_title', 'Review_text', 'Review_rating', 'Review_upvotes',\n",
    "       'Review_downvotes', 'User_city', 'Review_age2', 'price', 'Product_brand',\n",
    "       'Product_name', 'Product_feature', 'Product_average_rating',\n",
    "       'Product_Category']]"
   ]
  },
  {
   "cell_type": "code",
   "execution_count": 674,
   "metadata": {},
   "outputs": [],
   "source": [
    "df.columns=['Review_title', 'Review_text', 'Review_rating', 'Review_upvotes',\n",
    "       'Review_downvotes', 'User_city', 'Review_age_in_months', 'price', 'Product_brand',\n",
    "       'Product_name', 'Product_feature', 'Product_average_rating',\n",
    "       'Product_Category']"
   ]
  },
  {
   "cell_type": "code",
   "execution_count": 675,
   "metadata": {},
   "outputs": [
    {
     "data": {
      "text/html": [
       "<div>\n",
       "<style scoped>\n",
       "    .dataframe tbody tr th:only-of-type {\n",
       "        vertical-align: middle;\n",
       "    }\n",
       "\n",
       "    .dataframe tbody tr th {\n",
       "        vertical-align: top;\n",
       "    }\n",
       "\n",
       "    .dataframe thead th {\n",
       "        text-align: right;\n",
       "    }\n",
       "</style>\n",
       "<table border=\"1\" class=\"dataframe\">\n",
       "  <thead>\n",
       "    <tr style=\"text-align: right;\">\n",
       "      <th></th>\n",
       "      <th>Review_title</th>\n",
       "      <th>Review_text</th>\n",
       "      <th>Review_rating</th>\n",
       "      <th>Review_upvotes</th>\n",
       "      <th>Review_downvotes</th>\n",
       "      <th>User_city</th>\n",
       "      <th>Review_age_in_months</th>\n",
       "      <th>price</th>\n",
       "      <th>Product_brand</th>\n",
       "      <th>Product_name</th>\n",
       "      <th>Product_feature</th>\n",
       "      <th>Product_average_rating</th>\n",
       "      <th>Product_Category</th>\n",
       "    </tr>\n",
       "  </thead>\n",
       "  <tbody>\n",
       "    <tr>\n",
       "      <th>0</th>\n",
       "      <td>Just wow!</td>\n",
       "      <td>Good budget phone. Best battery and best perfo...</td>\n",
       "      <td>5.0</td>\n",
       "      <td>404</td>\n",
       "      <td>92</td>\n",
       "      <td>Thiruvananthapuram</td>\n",
       "      <td>1</td>\n",
       "      <td>7499</td>\n",
       "      <td>POCO</td>\n",
       "      <td>C3</td>\n",
       "      <td>3 GB RAM | 32 GB ROM | Expandable Upto 512 GB1...</td>\n",
       "      <td>4.3</td>\n",
       "      <td>Mobile</td>\n",
       "    </tr>\n",
       "    <tr>\n",
       "      <th>1</th>\n",
       "      <td>Highly recommended</td>\n",
       "      <td>Camera And battery in the Best perform Super👌👌...</td>\n",
       "      <td>5.0</td>\n",
       "      <td>1122</td>\n",
       "      <td>447</td>\n",
       "      <td>Murarai</td>\n",
       "      <td>2</td>\n",
       "      <td>7499</td>\n",
       "      <td>POCO</td>\n",
       "      <td>C3</td>\n",
       "      <td>3 GB RAM | 32 GB ROM | Expandable Upto 512 GB1...</td>\n",
       "      <td>4.3</td>\n",
       "      <td>Mobile</td>\n",
       "    </tr>\n",
       "    <tr>\n",
       "      <th>2</th>\n",
       "      <td>Brilliant</td>\n",
       "      <td>Very nice mobile in this price  Battery perfor...</td>\n",
       "      <td>5.0</td>\n",
       "      <td>293</td>\n",
       "      <td>111</td>\n",
       "      <td>Kota</td>\n",
       "      <td>1</td>\n",
       "      <td>7499</td>\n",
       "      <td>POCO</td>\n",
       "      <td>C3</td>\n",
       "      <td>3 GB RAM | 32 GB ROM | Expandable Upto 512 GB1...</td>\n",
       "      <td>4.3</td>\n",
       "      <td>Mobile</td>\n",
       "    </tr>\n",
       "    <tr>\n",
       "      <th>3</th>\n",
       "      <td>Delightful</td>\n",
       "      <td>Good product I like itPerformance is great 👍👍D...</td>\n",
       "      <td>5.0</td>\n",
       "      <td>115</td>\n",
       "      <td>46</td>\n",
       "      <td>Dharmanagar</td>\n",
       "      <td>0</td>\n",
       "      <td>7499</td>\n",
       "      <td>POCO</td>\n",
       "      <td>C3</td>\n",
       "      <td>3 GB RAM | 32 GB ROM | Expandable Upto 512 GB1...</td>\n",
       "      <td>4.3</td>\n",
       "      <td>Mobile</td>\n",
       "    </tr>\n",
       "    <tr>\n",
       "      <th>4</th>\n",
       "      <td>Not good</td>\n",
       "      <td>This phone is up to the mark. Camera of this p...</td>\n",
       "      <td>5.0</td>\n",
       "      <td>384</td>\n",
       "      <td>331</td>\n",
       "      <td>Chikkamagaluru</td>\n",
       "      <td>1</td>\n",
       "      <td>7499</td>\n",
       "      <td>POCO</td>\n",
       "      <td>C3</td>\n",
       "      <td>3 GB RAM | 32 GB ROM | Expandable Upto 512 GB1...</td>\n",
       "      <td>4.3</td>\n",
       "      <td>Mobile</td>\n",
       "    </tr>\n",
       "  </tbody>\n",
       "</table>\n",
       "</div>"
      ],
      "text/plain": [
       "         Review_title                                        Review_text  \\\n",
       "0           Just wow!  Good budget phone. Best battery and best perfo...   \n",
       "1  Highly recommended  Camera And battery in the Best perform Super👌👌...   \n",
       "2           Brilliant  Very nice mobile in this price  Battery perfor...   \n",
       "3          Delightful  Good product I like itPerformance is great 👍👍D...   \n",
       "4            Not good  This phone is up to the mark. Camera of this p...   \n",
       "\n",
       "   Review_rating  Review_upvotes  Review_downvotes            User_city  \\\n",
       "0            5.0             404                92   Thiruvananthapuram   \n",
       "1            5.0            1122               447              Murarai   \n",
       "2            5.0             293               111                 Kota   \n",
       "3            5.0             115                46          Dharmanagar   \n",
       "4            5.0             384               331       Chikkamagaluru   \n",
       "\n",
       "   Review_age_in_months  price Product_brand Product_name  \\\n",
       "0                     1   7499          POCO           C3   \n",
       "1                     2   7499          POCO           C3   \n",
       "2                     1   7499          POCO           C3   \n",
       "3                     0   7499          POCO           C3   \n",
       "4                     1   7499          POCO           C3   \n",
       "\n",
       "                                     Product_feature  Product_average_rating  \\\n",
       "0  3 GB RAM | 32 GB ROM | Expandable Upto 512 GB1...                     4.3   \n",
       "1  3 GB RAM | 32 GB ROM | Expandable Upto 512 GB1...                     4.3   \n",
       "2  3 GB RAM | 32 GB ROM | Expandable Upto 512 GB1...                     4.3   \n",
       "3  3 GB RAM | 32 GB ROM | Expandable Upto 512 GB1...                     4.3   \n",
       "4  3 GB RAM | 32 GB ROM | Expandable Upto 512 GB1...                     4.3   \n",
       "\n",
       "  Product_Category  \n",
       "0           Mobile  \n",
       "1           Mobile  \n",
       "2           Mobile  \n",
       "3           Mobile  \n",
       "4           Mobile  "
      ]
     },
     "execution_count": 675,
     "metadata": {},
     "output_type": "execute_result"
    }
   ],
   "source": [
    "df.head()"
   ]
  },
  {
   "cell_type": "code",
   "execution_count": 677,
   "metadata": {},
   "outputs": [],
   "source": [
    "df.to_csv('Final.csv')"
   ]
  },
  {
   "cell_type": "code",
   "execution_count": 678,
   "metadata": {},
   "outputs": [],
   "source": [
    "df.to_excel('Final.xlsx')"
   ]
  },
  {
   "cell_type": "code",
   "execution_count": null,
   "metadata": {},
   "outputs": [],
   "source": []
  }
 ],
 "metadata": {
  "kernelspec": {
   "display_name": "Python 3",
   "language": "python",
   "name": "python3"
  },
  "language_info": {
   "codemirror_mode": {
    "name": "ipython",
    "version": 3
   },
   "file_extension": ".py",
   "mimetype": "text/x-python",
   "name": "python",
   "nbconvert_exporter": "python",
   "pygments_lexer": "ipython3",
   "version": "3.8.5"
  }
 },
 "nbformat": 4,
 "nbformat_minor": 4
}
