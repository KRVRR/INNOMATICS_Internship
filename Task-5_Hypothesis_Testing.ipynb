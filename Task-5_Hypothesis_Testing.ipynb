{
 "cells": [
  {
   "cell_type": "markdown",
   "metadata": {},
   "source": [
    "<h1><b><u>Hypothesis Testing</b></h1>"
   ]
  },
  {
   "cell_type": "markdown",
   "metadata": {},
   "source": [
    "<h5><u><b>Hypothesis testing</b></u></h5>It is an act in statistics whereby an analyst tests an assumption regarding a population parameter. The methodology employed by the analyst depends on the nature of the data used and the reason for the analysis. Hypothesis testing is used to assess the plausibility of a hypothesis by using sample data."
   ]
  },
  {
   "cell_type": "markdown",
   "metadata": {},
   "source": [
    "<h5><b>Null hypothesis (H0)</b></h5>\n",
    "The null hypothesis states that a population parameter (such as the mean, the standard deviation, and so on) is equal to a hypothesized value. The null hypothesis is often an initial claim that is based on previous analyses or specialized knowledge."
   ]
  },
  {
   "cell_type": "markdown",
   "metadata": {},
   "source": [
    "<h5><b>Alternative Hypothesis (H1)</b></h5>\n",
    "The alternative hypothesis states that a population parameter is smaller, greater, or different than the hypothesized value in the null hypothesis. The alternative hypothesis is what you might believe to be true or hope to prove true."
   ]
  },
  {
   "cell_type": "markdown",
   "metadata": {},
   "source": [
    "<h5><b>Note-</b></h5>We state the null and alternative hypotheses in such a way that they cover all possibility of the value of population parameter."
   ]
  },
  {
   "cell_type": "code",
   "execution_count": 166,
   "metadata": {},
   "outputs": [],
   "source": [
    "#Importing required libraries\n",
    "import matplotlib.pyplot as plt\n",
    "import numpy as np\n",
    "from scipy.stats import t\n",
    "import scipy.stats"
   ]
  },
  {
   "cell_type": "code",
   "execution_count": 167,
   "metadata": {},
   "outputs": [],
   "source": [
    "# t_score for sampling distributions\n",
    "\n",
    "def t_score(sample_size, sample_mean, pop_mean, samp_std):\n",
    "    numerator = sample_mean - pop_mean\n",
    "    denomenator = samp_std / sample_size**0.5\n",
    "    return numerator / denomenator"
   ]
  },
  {
   "cell_type": "markdown",
   "metadata": {},
   "source": [
    "## Understanding the Hypothesis Testing\n",
    "\n",
    "\n",
    "Step - 1:\n",
    "\n",
    "Alternate Hypothesis (Bold claim): $H1\\Rightarrow  >,<,\\neq$\n",
    "\n",
    "Null Hypothesis (Status Quo): $H_0\\Rightarrow \\leq,\\geq,=$\n"
   ]
  },
  {
   "cell_type": "markdown",
   "metadata": {},
   "source": [
    "Step - 2:\n",
    "\n",
    "Collect a sample of size n\n",
    "Compute the mean from this sample $\\bar x$"
   ]
  },
  {
   "cell_type": "markdown",
   "metadata": {},
   "source": [
    " Step - 3: Compute Test Statistic:\n",
    "\n",
    "- If population variance is known: $$z=\\frac{\\bar x-\\mu }{\\sigma / \\sqrt[2]{n} }$$"
   ]
  },
  {
   "cell_type": "markdown",
   "metadata": {},
   "source": [
    "- If population variance is unknown: $$t=\\frac{\\bar x-\\mu }{s / \\sqrt[2]{n} }$$"
   ]
  },
  {
   "cell_type": "markdown",
   "metadata": {},
   "source": [
    "Step - 4: Decide significance level α\n",
    "\n",
    "\n",
    "Step - 5.1: Apply decision rule:\n",
    "\n",
    "- If test statistic is z-score - \n",
    "\n",
    "     - Two tailed z-test: $$|z|>z_{\\alpha/2}\\Rightarrow Accept H_1\\ or\\ Reject H_0$$\n",
    "     \n",
    "     - Right tailed z-test:$$z>z_α\\Rightarrow Accept H_1\\ or\\ Reject H_0$$\n",
    "     \n",
    "     -  Left tailed z-test: $$z<-z_α\\Rightarrow Accept H_1\\ or\\ Reject H_0$$\n"
   ]
  },
  {
   "cell_type": "markdown",
   "metadata": {},
   "source": [
    "- If test statistic is t-score:\n",
    "\n",
    "    - Two tailed t-test:$$|t|>{t_{n-1},_\\frac{\\alpha}{2}}\\Rightarrow Accept H_1\\ or\\ Reject H_0$$\n",
    "    \n",
    "    - Right tailed t-test:$$t>{t_{n-1},_\\alpha}\\Rightarrow Accept H_1\\ or\\ Reject H_0$$\n",
    "    \n",
    "    - Left tailed t-test:$$t<{t_{n-1},_\\alpha}\\Rightarrow Accept H_1\\ or\\ Reject H_0$$"
   ]
  },
  {
   "cell_type": "markdown",
   "metadata": {},
   "source": [
    "Step - 5.2: Compute p-value $P(Test Statistics|H_0)$\n",
    "\n",
    "- For two tailed test: $$p \\ value=2*(1.0-cdf(test \\ statistic))$$\n",
    "\n",
    "- For one tailed test: $$p \\ value=(1.0-cdf(test \\ statistic))$$\n",
    "\n",
    "Now,$$if(p \\ value<\\alpha)\\Rightarrow Accept H_1\\ or\\ Reject H_0$$"
   ]
  },
  {
   "cell_type": "markdown",
   "metadata": {},
   "source": [
    "<h5><b>PDF:</b></h5> Probability Density Function, returns the probability of a given continuous outcome.<br>\n",
    "<h5><b>CDF:</b></h5> Cumulative Distribution Function, returns the probability of a value less than or equal to a given outcome.<br>\n",
    "<h5><b>PPF:</b></h5> Percent-Point Function, returns a discrete value that is less than or equal to the given probability.It is the  inverse of the CDF<br>\n",
    "<h5><b>SF:</b></h5>Survival Function,is a function that gives the probability that a patient, device, or other object of interest will survive beyond any specified time. The survival function is also known as the survivor function or reliability function. 1-CDF gives the survival function.<br>"
   ]
  },
  {
   "cell_type": "markdown",
   "metadata": {},
   "source": [
    "<h1><b>Condition-Not Known Variance</b></h1>"
   ]
  },
  {
   "cell_type": "markdown",
   "metadata": {},
   "source": [
    "<b>Q-1: Pista House selling Hyderabadi Chicken Dum biryani claims that each parcel packet has 500 grams of biryani (also mentioned on the label of packet). You are sceptic of their claims and believe that on average each packet does not contain 500 grams of biryani. How do you prove your claim?</b>"
   ]
  },
  {
   "cell_type": "markdown",
   "metadata": {},
   "source": [
    "Step - 1:\n",
    "\n",
    "Alternate Hypothesis (Bold claim):$$H_1:\\mu\\neq500$$ (i.e. On an average each biryani packet does not weight 500 gms.)"
   ]
  },
  {
   "cell_type": "markdown",
   "metadata": {},
   "source": [
    "Null Hypothesis (Status Quo):$$H_0:\\mu=500$$\n",
    "(i.e. On an average each biryani packet weights 500 gms.)"
   ]
  },
  {
   "cell_type": "markdown",
   "metadata": {},
   "source": [
    "Step - 2:\n",
    "\n",
    "- Collect a sample of size n = 10 $$[490, 220, 470, 500, 495, 496, 496, 498, 508, 480]$$"
   ]
  },
  {
   "cell_type": "markdown",
   "metadata": {},
   "source": [
    "- Compute sample mean $$\\bar x = 465.3$$\n"
   ]
  },
  {
   "cell_type": "markdown",
   "metadata": {},
   "source": [
    "- Compute sample Standard Deviation: $$S=\\sqrt\\frac{\\Sigma(x-\\bar x)^2}{n-1}=86.84$$"
   ]
  },
  {
   "cell_type": "markdown",
   "metadata": {},
   "source": [
    "Step - 3: Compute Test Statistic: $$t=\\frac{\\bar x-\\mu }{s / \\sqrt[2]{n} }=-1.23$$"
   ]
  },
  {
   "cell_type": "markdown",
   "metadata": {},
   "source": [
    "Step - 4: Decide α = 0.05\n",
    "\n",
    "Step - 5: Two tailed t-test:$$rejectH_0if |t|>t_{n-1},_\\frac{\\alpha}{2}$$\n",
    "\n"
   ]
  },
  {
   "cell_type": "code",
   "execution_count": 168,
   "metadata": {},
   "outputs": [
    {
     "name": "stdout",
     "output_type": "stream",
     "text": [
      "465.3\n"
     ]
    }
   ],
   "source": [
    "#Computing the sample mean\n",
    "l = [490,220,470,500,495,496,496,498,508,480]\n",
    "\n",
    "pista_samp_mean=sum(l)/len(l)\n",
    "print(pista_samp_mean)"
   ]
  },
  {
   "cell_type": "code",
   "execution_count": 169,
   "metadata": {},
   "outputs": [
    {
     "name": "stdout",
     "output_type": "stream",
     "text": [
      "2.2621571627409915\n"
     ]
    }
   ],
   "source": [
    "# Two tail\n",
    "\n",
    "alpha = 1 - 0.95\n",
    "pista_t_critical = t.ppf(1-alpha/2, df = 10-1)\n",
    "print(pista_t_critical)"
   ]
  },
  {
   "cell_type": "code",
   "execution_count": 170,
   "metadata": {},
   "outputs": [],
   "source": [
    "import statistics"
   ]
  },
  {
   "cell_type": "code",
   "execution_count": 171,
   "metadata": {},
   "outputs": [
    {
     "name": "stdout",
     "output_type": "stream",
     "text": [
      "86.84859110991829\n"
     ]
    }
   ],
   "source": [
    "pista_samp_std=statistics.stdev(l)\n",
    "print(pista_samp_std)"
   ]
  },
  {
   "cell_type": "code",
   "execution_count": 172,
   "metadata": {},
   "outputs": [],
   "source": [
    "# Defining the sample and population parameters\n",
    "pista_samp_size = 10\n",
    "pista_samp_mean = 465.3\n",
    "pista_pop_mean = 500\n",
    "pista_samp_std = 86.84\n",
    "pista_t_critical=2.26"
   ]
  },
  {
   "cell_type": "code",
   "execution_count": 173,
   "metadata": {},
   "outputs": [
    {
     "data": {
      "text/plain": [
       "Text(465.3, 0.0007, 'x_bar')"
      ]
     },
     "execution_count": 173,
     "metadata": {},
     "output_type": "execute_result"
    },
    {
     "data": {
      "image/png": "[encoded data removed]",
      "text/plain": [
       "<Figure size 432x288 with 1 Axes>"
      ]
     },
     "metadata": {
      "needs_background": "light"
     },
     "output_type": "display_data"
    }
   ],
   "source": [
    "# Ploting the sampling distribution with rejection regions\n",
    "\n",
    "# Defining the x minimum and x maximum\n",
    "x_min = 400\n",
    "x_max = 600\n",
    "\n",
    "\n",
    "# Defining the sampling distribution mean and sampling distribution std\n",
    "mean = pista_pop_mean\n",
    "std = pista_samp_std / pista_samp_size**0.5\n",
    "\n",
    "\n",
    "# Ploting the graph and setting the x limits\n",
    "x = np.linspace(x_min, x_max, 100)\n",
    "y = t.pdf(x,df=9,loc=mean,scale= std)\n",
    "plt.xlim(x_min, x_max)\n",
    "plt.plot(x, y)\n",
    "\n",
    "\n",
    "# Computing the left and right critical values (Two tailed Test)\n",
    "t_critical_left = pista_pop_mean + (-pista_t_critical * std)\n",
    "t_critical_right = pista_pop_mean + (pista_t_critical * std)\n",
    "\n",
    "\n",
    "# Shading the left rejection region\n",
    "x1 = np.linspace(x_min, t_critical_left, 100)\n",
    "y1 = t.pdf(x1,df=9,loc=mean,scale= std)\n",
    "plt.fill_between(x1, y1, color='orange')\n",
    "\n",
    "\n",
    "# Shading the right rejection region\n",
    "x2 = np.linspace(t_critical_right, x_max, 100)\n",
    "y2 = t.pdf(x2,df=9,loc=mean,scale= std)\n",
    "plt.fill_between(x2, y2, color='orange')\n",
    "\n",
    "\n",
    "# Ploting the sample mean and concluding the results \n",
    "plt.scatter(pista_samp_mean, 0)\n",
    "plt.annotate(\"x_bar\", (pista_samp_mean, 0.0007))\n",
    "\n",
    "\n",
    "# In this case sample mean falls in the rejection region\n",
    "# i.e. here we reject the Null Hypothesis"
   ]
  },
  {
   "cell_type": "code",
   "execution_count": 174,
   "metadata": {},
   "outputs": [
    {
     "name": "stdout",
     "output_type": "stream",
     "text": [
      "-1.2636001244569637\n"
     ]
    }
   ],
   "source": [
    "# Calculating the t-score\n",
    "\n",
    "pista_t_score = t_score(pista_samp_size, pista_samp_mean, pista_pop_mean, pista_samp_std)\n",
    "\n",
    "print(pista_t_score)"
   ]
  },
  {
   "cell_type": "code",
   "execution_count": 175,
   "metadata": {},
   "outputs": [
    {
     "name": "stdout",
     "output_type": "stream",
     "text": [
      "Fail to reject Null Hypothesis : On an average each biryani packet does not weight 500 gms \n"
     ]
    }
   ],
   "source": [
    "# Conclusion using t test\n",
    "\n",
    "if(np.abs(pista_t_score) > pista_t_critical):\n",
    "    print(\"Reject Null Hypothesis\")\n",
    "else:\n",
    "    print(\"Fail to reject Null Hypothesis\")"
   ]
  },
  {
   "cell_type": "code",
   "execution_count": 198,
   "metadata": {},
   "outputs": [
    {
     "name": "stdout",
     "output_type": "stream",
     "text": [
      "Fail to reject Null Hypothesis\n"
     ]
    }
   ],
   "source": [
    "# Conclusion using p test\n",
    "pista_p_value=scipy.stats.t.sf(abs(pista_t_score), df=pista_samp_size-1)\n",
    "if (pista_p_value<0.05):\n",
    "    print(\"Reject Null Hypothesis\")\n",
    "else:\n",
    "    print(\"Fail to reject Null Hypothesis\")"
   ]
  },
  {
   "cell_type": "markdown",
   "metadata": {},
   "source": [
    "<b>Decision-</b>On average each packet contain 500 grams of biryani from the Pista house."
   ]
  },
  {
   "cell_type": "markdown",
   "metadata": {},
   "source": [
    "<h5>************************************************************************************************************************************************************</h5>"
   ]
  },
  {
   "cell_type": "markdown",
   "metadata": {},
   "source": [
    "<b>Q-2: You have developed a new Natural Language Processing Algorithms and done a user study. You claim that the average rating given by the users is greater than 4 on a scale of 1 to 5. How do you prove this to your client?</b>"
   ]
  },
  {
   "cell_type": "markdown",
   "metadata": {},
   "source": [
    "Step - 1:\n",
    "\n",
    "Alternate Hypothesis (Bold claim):$$H_1:\\mu>4$$\n",
    "(i.e. The average rating given by the users is greater than 4 on a scale of 1 to 5 with regards to a user study on a new NLP algorithms.)"
   ]
  },
  {
   "cell_type": "markdown",
   "metadata": {},
   "source": [
    "Null Hypothesis (Status Quo):$$H_0:\\mu\\leq4$$\n",
    "(i.e. The average rating given by the users is less than or equal to 4 on a scale of 1 to 5 with regards to a user study on a new NLP algorithms.)"
   ]
  },
  {
   "cell_type": "markdown",
   "metadata": {},
   "source": [
    "Step - 2:\n",
    "\n",
    "- Collect a sample of size n = 20 $$[4,3,5,4,5,3,5,5,4,2,4,5,5,4,4,5,4,5,4,5]$$"
   ]
  },
  {
   "cell_type": "markdown",
   "metadata": {},
   "source": [
    "- Compute sample mean $$\\bar x = 4.25$$\n"
   ]
  },
  {
   "cell_type": "markdown",
   "metadata": {},
   "source": [
    "- Compute sample Standard Deviation: $$S=\\sqrt\\frac{\\Sigma(x-\\bar x)^2}{n-1}=0.85$$"
   ]
  },
  {
   "cell_type": "markdown",
   "metadata": {},
   "source": [
    "Step - 3: Compute Test Statistic: $$t=\\frac{\\bar x-\\mu }{s / \\sqrt[2]{n} }=1.31$$"
   ]
  },
  {
   "cell_type": "markdown",
   "metadata": {},
   "source": [
    "Step - 4: Decide α = 0.05\n",
    "\n",
    "Step - 5: Two tailed t-test:$$rejectH_0if |t|>t_{n-1},_\\alpha$$"
   ]
  },
  {
   "cell_type": "code",
   "execution_count": 199,
   "metadata": {},
   "outputs": [
    {
     "name": "stdout",
     "output_type": "stream",
     "text": [
      "4.25\n"
     ]
    }
   ],
   "source": [
    "#Computing the sample mean\n",
    "l = [4,3,5,4,5,3,5,5,4,2,4,5,5,4,4,5,4,5,4,5]\n",
    "nlp_samp_mean=sum(l)/len(l)\n",
    "print(nlp_samp_mean)"
   ]
  },
  {
   "cell_type": "code",
   "execution_count": 200,
   "metadata": {},
   "outputs": [
    {
     "name": "stdout",
     "output_type": "stream",
     "text": [
      "1.729132811521367\n"
     ]
    }
   ],
   "source": [
    "# One tail\n",
    "\n",
    "alpha1 = 1 - 0.95\n",
    "\n",
    "nlp_t_critical = t.ppf(1-alpha1, df = 20-1)\n",
    "\n",
    "print(nlp_t_critical)"
   ]
  },
  {
   "cell_type": "code",
   "execution_count": 201,
   "metadata": {},
   "outputs": [],
   "source": [
    "import statistics"
   ]
  },
  {
   "cell_type": "code",
   "execution_count": 202,
   "metadata": {},
   "outputs": [
    {
     "name": "stdout",
     "output_type": "stream",
     "text": [
      "0.8506963092234007\n"
     ]
    }
   ],
   "source": [
    "nlp_samp_std=statistics.stdev(l)\n",
    "print(nlp_samp_std)"
   ]
  },
  {
   "cell_type": "code",
   "execution_count": 203,
   "metadata": {},
   "outputs": [],
   "source": [
    "# Defining the sample and population parameters\n",
    "nlp_samp_size = 20\n",
    "nlp_samp_mean = 4.25\n",
    "nlp_pop_mean = 4\n",
    "nlp_samp_std = 0.85\n",
    "nlp_t_critical=1.72"
   ]
  },
  {
   "cell_type": "code",
   "execution_count": 204,
   "metadata": {},
   "outputs": [
    {
     "data": {
      "text/plain": [
       "Text(4.25, 0.0007, 'x_bar')"
      ]
     },
     "execution_count": 204,
     "metadata": {},
     "output_type": "execute_result"
    },
    {
     "data": {
      "image/png": "[encoded data removed]",
      "text/plain": [
       "<Figure size 432x288 with 1 Axes>"
      ]
     },
     "metadata": {
      "needs_background": "light"
     },
     "output_type": "display_data"
    }
   ],
   "source": [
    "# Ploting the sampling distribution with rejection regions\n",
    "\n",
    "# Defining the x minimum and x maximum\n",
    "x_min = 3.5\n",
    "x_max = 4.5\n",
    "\n",
    "\n",
    "# Defining the sampling distribution mean and sampling distribution std\n",
    "mean = nlp_pop_mean\n",
    "std = nlp_samp_std / nlp_samp_size**0.5\n",
    "\n",
    "\n",
    "# Ploting the graph and setting the x limits\n",
    "x = np.linspace(x_min, x_max, 100)\n",
    "y = t.pdf(x,df=nlp_samp_size-1,loc=mean,scale= std)\n",
    "plt.xlim(x_min, x_max)\n",
    "plt.plot(x, y)\n",
    "\n",
    "\n",
    "# Computing the left and right critical values (Two tailed Test)\n",
    "t_critical_right = nlp_pop_mean + (nlp_t_critical * std)\n",
    "\n",
    "\n",
    "\n",
    "# Shading the right rejection region\n",
    "x2 = np.linspace(t_critical_right, x_max, 100)\n",
    "y2 = t.pdf(x2,df=nlp_samp_size-1,loc=mean,scale= std)\n",
    "plt.fill_between(x2, y2, color='orange')\n",
    "\n",
    "\n",
    "# Ploting the sample mean and concluding the results \n",
    "plt.scatter(nlp_samp_mean, 0)\n",
    "plt.annotate(\"x_bar\", (nlp_samp_mean, 0.0007))\n",
    "\n",
    "\n",
    "# In this case sample mean falls in the rejection region\n",
    "# i.e. here we reject the Null Hypothesis"
   ]
  },
  {
   "cell_type": "code",
   "execution_count": 205,
   "metadata": {},
   "outputs": [
    {
     "name": "stdout",
     "output_type": "stream",
     "text": [
      "1.3153341044116411\n"
     ]
    }
   ],
   "source": [
    "# Calculating the t-score\n",
    "\n",
    "nlp_t_score = t_score(nlp_samp_size, nlp_samp_mean, nlp_pop_mean, nlp_samp_std)\n",
    "\n",
    "print(nlp_t_score)"
   ]
  },
  {
   "cell_type": "code",
   "execution_count": 208,
   "metadata": {},
   "outputs": [
    {
     "name": "stdout",
     "output_type": "stream",
     "text": [
      "Fail to reject Null Hypothesis\n"
     ]
    }
   ],
   "source": [
    "# Conclusion using t test\n",
    "\n",
    "if(np.abs(nlp_t_score) > nlp_t_critical):\n",
    "    print(\"Reject Null Hypothesis\")\n",
    "else:\n",
    "    print(\"Fail to reject Null Hypothesis\")"
   ]
  },
  {
   "cell_type": "code",
   "execution_count": 209,
   "metadata": {},
   "outputs": [
    {
     "name": "stdout",
     "output_type": "stream",
     "text": [
      "Fail to reject Null Hypothesis\n"
     ]
    }
   ],
   "source": [
    "# Conclusion using p test\n",
    "nlp_p_value=scipy.stats.t.sf(abs(nlp_t_score), df=nlp_samp_size-1)\n",
    "if (nlp_p_value<0.05):\n",
    "    print(\"Reject Null Hypothesis\")\n",
    "else:\n",
    "    print(\"Fail to reject Null Hypothesis\")"
   ]
  },
  {
   "cell_type": "markdown",
   "metadata": {},
   "source": [
    "<b>Decision-</b> the average rating given by the users is lessthan or equals to 4 on a scale of 1 to 5."
   ]
  },
  {
   "cell_type": "markdown",
   "metadata": {},
   "source": [
    "<h5>************************************************************************************************************************************************************</h5>"
   ]
  },
  {
   "cell_type": "markdown",
   "metadata": {},
   "source": [
    "<b>Q-3: TATA has developed a better fuel management system for the SUV segment. They claim that with this system, on average the SUV's mileage is at least 15 km/litre?</b> "
   ]
  },
  {
   "cell_type": "markdown",
   "metadata": {},
   "source": [
    "Step - 1:\n",
    "\n",
    "Alternate Hypothesis (Bold claim):$$H_1:\\mu>15$$\n",
    "(i.e.On an average the TATA'S new SUV segment's mileage is greaterthan 15 km/litre.)"
   ]
  },
  {
   "cell_type": "markdown",
   "metadata": {},
   "source": [
    "Null Hypothesis (Status Quo):$$H_0:\\mu\\leq15$$\n",
    "(i.e.On an average the TATA'S new SUV segment's mileage is lessthan or equal to 15 km/litre.)"
   ]
  },
  {
   "cell_type": "markdown",
   "metadata": {},
   "source": [
    "Step - 2:\n",
    "\n",
    "- Collect a sample of size n = 20 $$ [14.08,14.13,15.65,13.78,16.26,14.97,15.36,15.81,14.53,16.79,15.78,16.98,13.23,15.43,15.46,13.88,14.31,14.41,15.76,15.38]$$"
   ]
  },
  {
   "cell_type": "markdown",
   "metadata": {},
   "source": [
    "- Compute sample mean $$\\bar x = 15.1$$\n"
   ]
  },
  {
   "cell_type": "markdown",
   "metadata": {},
   "source": [
    "- Compute sample Standard Deviation: $$S=\\sqrt\\frac{\\Sigma(x-\\bar x)^2}{n-1}=1.02$$"
   ]
  },
  {
   "cell_type": "markdown",
   "metadata": {},
   "source": [
    "Step - 3: Compute Test Statistic: $$t=\\frac{\\bar x-\\mu }{s / \\sqrt[2]{n} }=0.43$$"
   ]
  },
  {
   "cell_type": "markdown",
   "metadata": {},
   "source": [
    "Step - 4: Decide α = 0.05\n",
    "\n",
    "Step - 5: Two tailed t-test:$$rejectH_0if |t|>t_{n-1},_\\alpha$$"
   ]
  },
  {
   "cell_type": "code",
   "execution_count": 187,
   "metadata": {},
   "outputs": [
    {
     "name": "stdout",
     "output_type": "stream",
     "text": [
      "15.098999999999998\n"
     ]
    }
   ],
   "source": [
    "#Computing the sample mean\n",
    "l = [14.08,14.13,15.65,13.78,16.26,14.97,15.36,15.81,14.53,16.79,15.78,16.98,13.23,15.43,15.46,13.88,14.31,14.41,15.76,15.38]\n",
    "suv_samp_mean=sum(l)/len(l)\n",
    "print(suv_samp_mean)"
   ]
  },
  {
   "cell_type": "code",
   "execution_count": 188,
   "metadata": {},
   "outputs": [
    {
     "name": "stdout",
     "output_type": "stream",
     "text": [
      "1.729132811521367\n"
     ]
    }
   ],
   "source": [
    "# One tail\n",
    "\n",
    "alpha2 = 1 - 0.95\n",
    "\n",
    "suv_t_critical = t.ppf(1-alpha2, df = 20-1)\n",
    "\n",
    "print(suv_t_critical)"
   ]
  },
  {
   "cell_type": "code",
   "execution_count": 189,
   "metadata": {},
   "outputs": [],
   "source": [
    "import statistics"
   ]
  },
  {
   "cell_type": "code",
   "execution_count": 190,
   "metadata": {},
   "outputs": [
    {
     "name": "stdout",
     "output_type": "stream",
     "text": [
      "1.0253671999517258\n"
     ]
    }
   ],
   "source": [
    "suv_samp_std=statistics.stdev(l)\n",
    "print(suv_samp_std)"
   ]
  },
  {
   "cell_type": "code",
   "execution_count": 191,
   "metadata": {},
   "outputs": [],
   "source": [
    "# Defining the sample and population parameters\n",
    "suv_samp_size = 20\n",
    "suv_samp_mean = 15.1\n",
    "suv_pop_mean = 15\n",
    "suv_samp_std = 1.02\n",
    "suv_t_critical=1.72"
   ]
  },
  {
   "cell_type": "code",
   "execution_count": 192,
   "metadata": {},
   "outputs": [
    {
     "data": {
      "text/plain": [
       "Text(15.1, 0.1, 'x_bar')"
      ]
     },
     "execution_count": 192,
     "metadata": {},
     "output_type": "execute_result"
    },
    {
     "data": {
      "image/png": "[encoded data removed]",
      "text/plain": [
       "<Figure size 432x288 with 1 Axes>"
      ]
     },
     "metadata": {
      "needs_background": "light"
     },
     "output_type": "display_data"
    }
   ],
   "source": [
    "# Ploting the sampling distribution with rejection regions\n",
    "\n",
    "# Defining the x minimum and x maximum\n",
    "x_min = 13\n",
    "x_max = 17\n",
    "\n",
    "\n",
    "# Defining the sampling distribution mean and sampling distribution std\n",
    "mean = suv_pop_mean\n",
    "std = suv_samp_std / suv_samp_size**0.5\n",
    "\n",
    "\n",
    "# Ploting the graph and setting the x limits\n",
    "x = np.linspace(x_min, x_max, 100)\n",
    "y = t.pdf(x,df=suv_samp_size-1,loc=mean,scale= std)\n",
    "plt.xlim(x_min, x_max)\n",
    "plt.plot(x, y)\n",
    "\n",
    "\n",
    "# Computing the left and right critical values (Two tailed Test)\n",
    "t_critical_right = suv_pop_mean + (suv_t_critical * std)\n",
    "\n",
    "\n",
    "# Shading the right rejection region\n",
    "x2 = np.linspace(t_critical_right, x_max, 100)\n",
    "y2 = t.pdf(x2,df=suv_samp_size-1,loc=mean,scale= std)\n",
    "plt.fill_between(x2, y2, color='orange')\n",
    "\n",
    "\n",
    "# Ploting the sample mean and concluding the results \n",
    "plt.scatter(suv_samp_mean, 0)\n",
    "plt.annotate(\"x_bar\", (suv_samp_mean, 0.1))\n",
    "\n",
    "\n",
    "# In this case sample mean falls in the rejection region\n",
    "# i.e. here we reject the Null Hypothesis"
   ]
  },
  {
   "cell_type": "code",
   "execution_count": 193,
   "metadata": {},
   "outputs": [
    {
     "name": "stdout",
     "output_type": "stream",
     "text": [
      "0.4384447014705455\n"
     ]
    }
   ],
   "source": [
    "# Calculating the t-score\n",
    "\n",
    "suv_t_score = t_score(suv_samp_size, suv_samp_mean, suv_pop_mean, suv_samp_std)\n",
    "\n",
    "print(suv_t_score)"
   ]
  },
  {
   "cell_type": "code",
   "execution_count": 210,
   "metadata": {},
   "outputs": [
    {
     "name": "stdout",
     "output_type": "stream",
     "text": [
      "Fail to reject Null Hypothesis\n"
     ]
    }
   ],
   "source": [
    "# Conclusion using t test\n",
    "\n",
    "if(suv_t_score > suv_t_critical):\n",
    "    print(\"Reject Null Hypothesis\")\n",
    "else:\n",
    "    print(\"Fail to reject Null Hypothesis\")"
   ]
  },
  {
   "cell_type": "code",
   "execution_count": 211,
   "metadata": {},
   "outputs": [
    {
     "name": "stdout",
     "output_type": "stream",
     "text": [
      "Fail to reject Null Hypothesis\n"
     ]
    }
   ],
   "source": [
    "# Conclusion using p test\n",
    "suv_p_value=scipy.stats.t.sf(abs(suv_t_score), df=suv_samp_size-1)\n",
    "if (suv_p_value<0.05):\n",
    "    print(\"Reject Null Hypothesis\")\n",
    "else:\n",
    "    print(\"Fail to reject Null Hypothesis\")"
   ]
  },
  {
   "cell_type": "markdown",
   "metadata": {},
   "source": [
    "<b>Decision-</b>On an average the SUV's mileage is lessthan or equal to 15 km/litre."
   ]
  },
  {
   "cell_type": "markdown",
   "metadata": {},
   "source": [
    "<h5>************************************************************************************************************************************************************</h5>"
   ]
  },
  {
   "cell_type": "markdown",
   "metadata": {},
   "source": [
    "<b>Q-4: You have developed a new Machine Learning Application and claim that on average it takes less than 100 ms to predict for any future datapoint. How do you convince your client about this claim? ~(Based on past data you know that the std is 10 ms)</b>"
   ]
  },
  {
   "cell_type": "markdown",
   "metadata": {},
   "source": [
    "Step - 1:\n",
    "\n",
    "Alternate Hypothesis (Bold claim):$$H_1:\\mu<100 milli seconds$$<br>\n",
    "(i.e.On average the ML algorithm takes less than 100 ms to predict for any future datapoint. )"
   ]
  },
  {
   "cell_type": "markdown",
   "metadata": {},
   "source": [
    "Null Hypothesis (Status Quo):$$H_0:\\mu\\geq100 milli seconds$$<br>\n",
    "(i.e.On average the ML algorithm takes greater than or equal to 100 ms to predict for any future datapoint.)"
   ]
  },
  {
   "cell_type": "markdown",
   "metadata": {},
   "source": [
    "Step - 2:\n",
    "\n",
    "- Collect a sample of size n = 100"
   ]
  },
  {
   "cell_type": "markdown",
   "metadata": {},
   "source": [
    "- Compute sample mean $$\\bar x = 97.5$$\n"
   ]
  },
  {
   "cell_type": "markdown",
   "metadata": {},
   "source": [
    "- Compute sample Standard Deviation: $$S=\\sqrt\\frac{\\Sigma(x-\\bar x)^2}{n-1}=7$$"
   ]
  },
  {
   "cell_type": "markdown",
   "metadata": {},
   "source": [
    "Step - 3: Compute Test Statistic: $$t=\\frac{\\bar x-\\mu }{s / \\sqrt[2]{n} }=-3.571$$"
   ]
  },
  {
   "cell_type": "markdown",
   "metadata": {},
   "source": [
    "Step - 4: Decide α = 0.05\n",
    "\n",
    "Step - 5: Two tailed t-test:$$rejectH_0if |t|>t_{n-1},_\\alpha$$"
   ]
  },
  {
   "cell_type": "code",
   "execution_count": 212,
   "metadata": {},
   "outputs": [
    {
     "name": "stdout",
     "output_type": "stream",
     "text": [
      "2.3646058614359737\n"
     ]
    }
   ],
   "source": [
    "# One tail\n",
    "\n",
    "alpha3 = 1 - 0.99\n",
    "\n",
    "mla_t_critical = t.ppf(1-alpha3, df = 100-1)\n",
    "\n",
    "print(mla_t_critical)"
   ]
  },
  {
   "cell_type": "code",
   "execution_count": 213,
   "metadata": {},
   "outputs": [],
   "source": [
    "# Defining the sample and population parameters\n",
    "mla_samp_size = 100\n",
    "mla_samp_mean = 97.5\n",
    "mla_pop_mean = 100\n",
    "mla_samp_std = 7\n",
    "mla_t_critical=2.82"
   ]
  },
  {
   "cell_type": "code",
   "execution_count": 214,
   "metadata": {},
   "outputs": [
    {
     "data": {
      "text/plain": [
       "Text(97.5, 0.02, 'x_bar')"
      ]
     },
     "execution_count": 214,
     "metadata": {},
     "output_type": "execute_result"
    },
    {
     "data": {
      "image/png": "[encoded data removed]",
      "text/plain": [
       "<Figure size 432x288 with 1 Axes>"
      ]
     },
     "metadata": {
      "needs_background": "light"
     },
     "output_type": "display_data"
    }
   ],
   "source": [
    "# Ploting the sampling distribution with rejection regions\n",
    "\n",
    "# Defining the x minimum and x maximum\n",
    "x_min = 95\n",
    "x_max =105\n",
    "\n",
    "\n",
    "# Defining the sampling distribution mean and sampling distribution std\n",
    "mean = mla_pop_mean\n",
    "std = mla_samp_std / mla_samp_size**0.5\n",
    "\n",
    "\n",
    "# Ploting the graph and setting the x limits\n",
    "x = np.linspace(x_min, x_max, 100)\n",
    "y = t.pdf(x,df=mla_samp_size-1,loc=mean,scale= std)\n",
    "plt.xlim(x_min, x_max)\n",
    "plt.plot(x, y)\n",
    "\n",
    "\n",
    "# Computing the left and right critical values (Two tailed Test)\n",
    "t_critical_left = mla_pop_mean + (-mla_t_critical * std)\n",
    "\n",
    "\n",
    "# Shading the right rejection region\n",
    "x2 = np.linspace(x_min,t_critical_left, 100)\n",
    "y2 = t.pdf(x2,df=mla_samp_size-1,loc=mean,scale= std)\n",
    "plt.fill_between(x2, y2, color='orange')\n",
    "\n",
    "\n",
    "# Ploting the sample mean and concluding the results \n",
    "plt.scatter(mla_samp_mean, 0)\n",
    "plt.annotate(\"x_bar\", (mla_samp_mean, 0.02))\n",
    "\n",
    "\n",
    "# In this case sample mean falls in the rejection region\n",
    "# i.e. here we reject the Null Hypothesis"
   ]
  },
  {
   "cell_type": "code",
   "execution_count": 215,
   "metadata": {},
   "outputs": [
    {
     "name": "stdout",
     "output_type": "stream",
     "text": [
      "-3.5714285714285716\n"
     ]
    }
   ],
   "source": [
    "# Calculating the t-score\n",
    "\n",
    "mla_t_score = t_score(mla_samp_size, mla_samp_mean, mla_pop_mean, mla_samp_std)\n",
    "\n",
    "print(mla_t_score)"
   ]
  },
  {
   "cell_type": "code",
   "execution_count": 216,
   "metadata": {},
   "outputs": [
    {
     "name": "stdout",
     "output_type": "stream",
     "text": [
      "Reject Null Hypothesis\n"
     ]
    }
   ],
   "source": [
    "# Conclusion using t test\n",
    "if mla_t_score < mla_t_critical:\n",
    "    print(\"Reject Null Hypothesis\")\n",
    "else:\n",
    "    print(\"Fail to reject Null Hypothesis\")"
   ]
  },
  {
   "cell_type": "code",
   "execution_count": 217,
   "metadata": {},
   "outputs": [
    {
     "name": "stdout",
     "output_type": "stream",
     "text": [
      "Reject Null Hypothesis\n"
     ]
    }
   ],
   "source": [
    "# Conclusion using p test\n",
    "mla_p_value=scipy.stats.t.sf(abs(mla_t_score), df=mla_samp_size-1)\n",
    "if (mla_p_value<0.01):\n",
    "    print(\"Reject Null Hypothesis\")\n",
    "else:\n",
    "    print(\"Fail to reject Null Hypothesis\")"
   ]
  },
  {
   "cell_type": "markdown",
   "metadata": {},
   "source": [
    "<b>Decision-</b>On average the ML algorithm takes less than 100 ms to predict for any future datapoint. "
   ]
  },
  {
   "cell_type": "markdown",
   "metadata": {},
   "source": [
    "<h5>************************************************************************************************************************************************************</h5>"
   ]
  },
  {
   "cell_type": "markdown",
   "metadata": {},
   "source": [
    "<h2><b>*************************************Thanks for reading********************************************</b></h2>"
   ]
  },
  {
   "cell_type": "code",
   "execution_count": null,
   "metadata": {},
   "outputs": [],
   "source": []
  }
 ],
 "metadata": {
  "kernelspec": {
   "display_name": "Python 3",
   "language": "python",
   "name": "python3"
  },
  "language_info": {
   "codemirror_mode": {
    "name": "ipython",
    "version": 3
   },
   "file_extension": ".py",
   "mimetype": "text/x-python",
   "name": "python",
   "nbconvert_exporter": "python",
   "pygments_lexer": "ipython3",
   "version": "3.8.5"
  }
 },
 "nbformat": 4,
 "nbformat_minor": 4
}
